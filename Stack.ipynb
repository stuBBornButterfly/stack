{
 "cells": [
  {
   "cell_type": "code",
   "execution_count": null,
   "metadata": {},
   "outputs": [],
   "source": [
    "#PART A OF QUESTION 1\n",
    " a queue is better suited for\n",
    " implementing this simulation \n",
    " as it is used for FIFO principle."
   ]
  },
  {
   "cell_type": "code",
   "execution_count": 5,
   "metadata": {},
   "outputs": [],
   "source": [
    "#PART B OF QUESTION 1\n",
    "\n",
    "from collections import deque\n",
    "\n",
    "class ThemePark:\n",
    "     def __init__(self):\n",
    "          self.premium_queue = deque()\n",
    "          self.regular_queue = deque()\n",
    "     \n",
    "     def add_customer(self,cust_id,is_prem):\n",
    "          if is_prem:\n",
    "               self.premium_queue.append(cust_id)\n",
    "               print(f\"Premium  customer is {cust_id} is added.\")\n",
    "          else:\n",
    "               self.regular_queue.append(cust_id)\n",
    "               print(f\"Regular customer is {cust_id} is added.\")\n",
    "     def serve_customer(self):\n",
    "          if self.premium_queue:\n",
    "               print(f\"Permium customer is served {self.premium_queue.popleft()}\")\n",
    "          elif self.regular_queue:\n",
    "               print(f\"Regular customer is served {self.regular_queue.popleft()}\")\n",
    "          else:\n",
    "               print(\"No customer is served\")\n"
   ]
  },
  {
   "cell_type": "code",
   "execution_count": null,
   "metadata": {},
   "outputs": [],
   "source": [
    "#PART A OF QUESTION 2\n",
    "\n",
    " a stack is better suited for\n",
    " implementing this simulation \n",
    " as it is used for LIFO principle."
   ]
  },
  {
   "cell_type": "code",
   "execution_count": null,
   "metadata": {},
   "outputs": [],
   "source": [
    "#PART B OF QUESTION 2\n",
    "\n",
    "class TextEditor:\n",
    "     def __init__(self):\n",
    "        self.undo_stack = [] \n",
    "        self.redo_stack = []\n",
    "     def user_action(self,performed_action):\n",
    "         self.undo_stack.append(performed_action)\n",
    "         print(f\"User performed action :{performed_action}\")\n",
    "     def undo_system(self):\n",
    "          if self.undo_stack:\n",
    "             performed_action = self.undo_stack.pop()\n",
    "             self.redo_stack.append(performed_action)\n",
    "             print(f\"Undo action {performed_action} performed\")\n",
    "          else:\n",
    "              print(\"Nothing performed\")\n",
    "     def redo_system(self):\n",
    "          if self.redo_stack:\n",
    "             performed_action = self.redo_stack.pop()\n",
    "             self.undo_stack.append(performed_action)\n",
    "             print(f\"Redo action {performed_action} performed\")\n",
    "          else:\n",
    "              print(\"Nothing performed\")\n",
    "                                                                                                                                                                                                 "
   ]
  },
  {
   "cell_type": "code",
   "execution_count": 6,
   "metadata": {},
   "outputs": [],
   "source": [
    "#PART A OF QUESTION 3\n",
    "Priority queue would be the best choice because it is determined by urgency and then distance.\n"
   ]
  },
  {
   "cell_type": "code",
   "execution_count": null,
   "metadata": {},
   "outputs": [],
   "source": [
    "#PART B OF QUESTION 3\n",
    "\n",
    "import heapq\n",
    "\n",
    "class Delivery:\n",
    "     def __init__(self,urgency,distance,id):\n",
    "\n",
    "          self.urgency = urgency \n",
    "          self.distance = distance\n",
    "          self.id = id\n",
    "\n",
    "     def __lt__(self,other):\n",
    "          if self.urgency==other.urgency:\n",
    "               return self.distance <other.distance\n",
    "          return self.urgency <other.urgency\n",
    "class DeliverySystem:\n",
    "    def __init__(self):\n",
    "        self.deliveries = []\n"
   ]
  },
  {
   "cell_type": "code",
   "execution_count": null,
   "metadata": {},
   "outputs": [],
   "source": [
    "#PART A OF QUESTION 4---> Converting Infix to Postfix and Prefix\n",
    "\n",
    "class Stack:\n",
    "    def __init__(self):\n",
    "        self.items = []\n",
    "\n",
    "    def push(self, item):\n",
    "        self.items.append(item)\n",
    "\n",
    "    def pop(self):\n",
    "        return self.items.pop() if not self.is_empty() else None\n",
    "\n",
    "    def peek(self):\n",
    "        return self.items[-1] if not self.is_empty() else None\n",
    "\n",
    "    def is_empty(self):\n",
    "        return len(self.items) == 0\n",
    "\n",
    "def precedence(op):\n",
    "    if op == '+' or op == '-':\n",
    "        return 1\n",
    "    if op == '*' or op == '/':\n",
    "        return 2\n",
    "    return 0\n",
    "\n",
    "def infix_to_postfix(expression):\n",
    "    stack = []\n",
    "    output = []\n",
    "    for char in expression:\n",
    "        if char.isnumeric():\n",
    "            output.append(char)\n",
    "        elif char in \"+-*/\":\n",
    "            while stack and precedence(stack[-1]) >= precedence(char):\n",
    "                output.append(stack.pop())\n",
    "            stack.append(char)\n",
    "        elif char == \"(\":\n",
    "            stack.append(char)\n",
    "        elif char == \")\":\n",
    "            while stack and stack[-1] != \"(\":\n",
    "                output.append(stack.pop())\n",
    "            stack.pop()\n",
    "    while stack:\n",
    "        output.append(stack.pop())\n",
    "    return \" \".join(output)"
   ]
  },
  {
   "cell_type": "code",
   "execution_count": null,
   "metadata": {},
   "outputs": [],
   "source": [
    "#PART B OF QUESTION 4\n",
    "\n",
    "def evalution_postfix(expression):\n",
    "    stack = []\n",
    "    for ch in expression.split():\n",
    "        stack.append(int(ch) if ch.isdigit() else evalution_postfix(f\"{stack.pop(-2)}{ch}{stack.pop()}\"))\n",
    "    return stack[0]"
   ]
  }
 ],
 "metadata": {
  "kernelspec": {
   "display_name": "Python 3",
   "language": "python",
   "name": "python3"
  },
  "language_info": {
   "codemirror_mode": {
    "name": "ipython",
    "version": 3
   },
   "file_extension": ".py",
   "mimetype": "text/x-python",
   "name": "python",
   "nbconvert_exporter": "python",
   "pygments_lexer": "ipython3",
   "version": "3.10.2"
  }
 },
 "nbformat": 4,
 "nbformat_minor": 2
}
